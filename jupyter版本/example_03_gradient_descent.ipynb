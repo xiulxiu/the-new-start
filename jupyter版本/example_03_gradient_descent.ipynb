{
 "cells": [
  {
   "cell_type": "code",
   "execution_count": 1,
   "id": "frank-tower",
   "metadata": {},
   "outputs": [],
   "source": [
    "#Jupyter中打印所有结果\n",
    "from IPython.core.interactiveshell import InteractiveShell\n",
    "InteractiveShell.ast_node_interactivity = \"all\""
   ]
  },
  {
   "cell_type": "code",
   "execution_count": 2,
   "id": "configured-recovery",
   "metadata": {},
   "outputs": [],
   "source": [
    "import numpy as np\n",
    "import matplotlib.pyplot as plt\n",
    "import random\n",
    "from icecream import ic"
   ]
  },
  {
   "cell_type": "code",
   "execution_count": 3,
   "id": "peripheral-opportunity",
   "metadata": {},
   "outputs": [],
   "source": [
    "def func(x):\n",
    "    return 10 * x**2 + 32*x + 9"
   ]
  },
  {
   "cell_type": "code",
   "execution_count": 4,
   "id": "presidential-senior",
   "metadata": {},
   "outputs": [],
   "source": [
    "def gradient(x):\n",
    "    return 20 *x + 32"
   ]
  },
  {
   "cell_type": "code",
   "execution_count": 5,
   "id": "blond-skirt",
   "metadata": {},
   "outputs": [],
   "source": [
    "x = np.linspace(-10, 10)\n",
    "steps = []"
   ]
  },
  {
   "cell_type": "code",
   "execution_count": 6,
   "id": "grateful-project",
   "metadata": {},
   "outputs": [],
   "source": [
    "x_star = random.choice(x)\n",
    "alpha = 1e-3"
   ]
  },
  {
   "cell_type": "code",
   "execution_count": 7,
   "id": "cardiovascular-specific",
   "metadata": {},
   "outputs": [
    {
     "name": "stderr",
     "output_type": "stream",
     "text": [
      "ic| x_star: -7.432, func(x_star): 323.52224000000007\n"
     ]
    },
    {
     "data": {
      "text/plain": [
       "(-7.432, 323.52224000000007)"
      ]
     },
     "execution_count": 7,
     "metadata": {},
     "output_type": "execute_result"
    },
    {
     "name": "stderr",
     "output_type": "stream",
     "text": [
      "ic| x_star: -7.31536, func(x_star): 310.053399296\n"
     ]
    },
    {
     "data": {
      "text/plain": [
       "(-7.31536, 310.053399296)"
      ]
     },
     "execution_count": 7,
     "metadata": {},
     "output_type": "execute_result"
    },
    {
     "name": "stderr",
     "output_type": "stream",
     "text": [
      "ic| x_star: -7.2010528, func(x_star): 297.1179246838785\n"
     ]
    },
    {
     "data": {
      "text/plain": [
       "(-7.2010528, 297.1179246838785)"
      ]
     },
     "execution_count": 7,
     "metadata": {},
     "output_type": "execute_result"
    },
    {
     "name": "stderr",
     "output_type": "stream",
     "text": [
      "ic| x_star: -7.089031744000001, func(x_star): 284.69469486639696\n"
     ]
    },
    {
     "data": {
      "text/plain": [
       "(-7.089031744000001, 284.69469486639696)"
      ]
     },
     "execution_count": 7,
     "metadata": {},
     "output_type": "execute_result"
    },
    {
     "name": "stderr",
     "output_type": "stream",
     "text": [
      "ic| x_star: -6.979251109120001, func(x_star): 272.76342494968753\n"
     ]
    },
    {
     "data": {
      "text/plain": [
       "(-6.979251109120001, 272.76342494968753)"
      ]
     },
     "execution_count": 7,
     "metadata": {},
     "output_type": "execute_result"
    },
    {
     "name": "stderr",
     "output_type": "stream",
     "text": [
      "ic| x_star: -6.8716660869376005, func(x_star): 261.30463332167994\n"
     ]
    },
    {
     "data": {
      "text/plain": [
       "(-6.8716660869376005, 261.30463332167994)"
      ]
     },
     "execution_count": 7,
     "metadata": {},
     "output_type": "execute_result"
    },
    {
     "name": "stderr",
     "output_type": "stream",
     "text": [
      "ic| x_star: -6.766232765198849, func(x_star): 250.29960984214148\n"
     ]
    },
    {
     "data": {
      "text/plain": [
       "(-6.766232765198849, 250.29960984214148)"
      ]
     },
     "execution_count": 7,
     "metadata": {},
     "output_type": "execute_result"
    },
    {
     "name": "stderr",
     "output_type": "stream",
     "text": [
      "ic| x_star: -6.662908109894872, func(x_star): 239.7303852923926\n"
     ]
    },
    {
     "data": {
      "text/plain": [
       "(-6.662908109894872, 239.7303852923926)"
      ]
     },
     "execution_count": 7,
     "metadata": {},
     "output_type": "execute_result"
    },
    {
     "name": "stderr",
     "output_type": "stream",
     "text": [
      "ic| x_star: -6.561649947696974, func(x_star): 229.57970203481392\n"
     ]
    },
    {
     "data": {
      "text/plain": [
       "(-6.561649947696974, 229.57970203481392)"
      ]
     },
     "execution_count": 7,
     "metadata": {},
     "output_type": "execute_result"
    },
    {
     "name": "stderr",
     "output_type": "stream",
     "text": [
      "ic| x_star: -6.4624169487430345, func(x_star): 219.83098583423524\n"
     ]
    },
    {
     "data": {
      "text/plain": [
       "(-6.4624169487430345, 219.83098583423524)"
      ]
     },
     "execution_count": 7,
     "metadata": {},
     "output_type": "execute_result"
    },
    {
     "name": "stderr",
     "output_type": "stream",
     "text": [
      "ic| x_star: -6.3651686097681734, func(x_star): 210.46831879519945\n"
     ]
    },
    {
     "data": {
      "text/plain": [
       "(-6.3651686097681734, 210.46831879519945)"
      ]
     },
     "execution_count": 7,
     "metadata": {},
     "output_type": "execute_result"
    },
    {
     "name": "stderr",
     "output_type": "stream",
     "text": [
      "ic| x_star: -6.26986523757281, func(x_star): 201.4764133709095\n"
     ]
    },
    {
     "data": {
      "text/plain": [
       "(-6.26986523757281, 201.4764133709095)"
      ]
     },
     "execution_count": 7,
     "metadata": {},
     "output_type": "execute_result"
    },
    {
     "name": "stderr",
     "output_type": "stream",
     "text": [
      "ic| x_star: -6.176467932821353, func(x_star): 192.8405874014215\n"
     ]
    },
    {
     "data": {
      "text/plain": [
       "(-6.176467932821353, 192.8405874014215)"
      ]
     },
     "execution_count": 7,
     "metadata": {},
     "output_type": "execute_result"
    },
    {
     "name": "stderr",
     "output_type": "stream",
     "text": [
      "ic| x_star: -6.0849385741649265, func(x_star): 184.5467401403252\n"
     ]
    },
    {
     "data": {
      "text/plain": [
       "(-6.0849385741649265, 184.5467401403252)"
      ]
     },
     "execution_count": 7,
     "metadata": {},
     "output_type": "execute_result"
    },
    {
     "name": "stderr",
     "output_type": "stream",
     "text": [
      "ic| x_star: -5.995239802681628, func(x_star): 176.58132923076835\n"
     ]
    },
    {
     "data": {
      "text/plain": [
       "(-5.995239802681628, 176.58132923076835)"
      ]
     },
     "execution_count": 7,
     "metadata": {},
     "output_type": "execute_result"
    },
    {
     "name": "stderr",
     "output_type": "stream",
     "text": [
      "ic| x_star: -5.907335006627995, func(x_star): 168.9313485932299\n"
     ]
    },
    {
     "data": {
      "text/plain": [
       "(-5.907335006627995, 168.9313485932299)"
      ]
     },
     "execution_count": 7,
     "metadata": {},
     "output_type": "execute_result"
    },
    {
     "name": "stderr",
     "output_type": "stream",
     "text": [
      "ic| x_star: -5.821188306495435, func(x_star): 161.58430718893794\n"
     ]
    },
    {
     "data": {
      "text/plain": [
       "(-5.821188306495435, 161.58430718893794)"
      ]
     },
     "execution_count": 7,
     "metadata": {},
     "output_type": "execute_result"
    },
    {
     "name": "stderr",
     "output_type": "stream",
     "text": [
      "ic| x_star: -5.736764540365526, func(x_star): 154.52820862425602\n"
     ]
    },
    {
     "data": {
      "text/plain": [
       "(-5.736764540365526, 154.52820862425602)"
      ]
     },
     "execution_count": 7,
     "metadata": {},
     "output_type": "execute_result"
    },
    {
     "name": "stderr",
     "output_type": "stream",
     "text": [
      "ic| x_star: -5.654029249558215, func(x_star): 147.75153156273547\n"
     ]
    },
    {
     "data": {
      "text/plain": [
       "(-5.654029249558215, 147.75153156273547)"
      ]
     },
     "execution_count": 7,
     "metadata": {},
     "output_type": "execute_result"
    },
    {
     "name": "stderr",
     "output_type": "stream",
     "text": [
      "ic| x_star: -5.572948664567051, func(x_star): 141.24321091285114\n"
     ]
    },
    {
     "data": {
      "text/plain": [
       "(-5.572948664567051, 141.24321091285114)"
      ]
     },
     "execution_count": 7,
     "metadata": {},
     "output_type": "execute_result"
    },
    {
     "name": "stderr",
     "output_type": "stream",
     "text": [
      "ic| x_star: -5.493489691275711, func(x_star): 134.99261976070233\n"
     ]
    },
    {
     "data": {
      "text/plain": [
       "(-5.493489691275711, 134.99261976070233)"
      ]
     },
     "execution_count": 7,
     "metadata": {},
     "output_type": "execute_result"
    },
    {
     "name": "stderr",
     "output_type": "stream",
     "text": [
      "ic| x_star: -5.415619897450196, func(x_star): 128.9895520181785\n"
     ]
    },
    {
     "data": {
      "text/plain": [
       "(-5.415619897450196, 128.9895520181785)"
      ]
     },
     "execution_count": 7,
     "metadata": {},
     "output_type": "execute_result"
    },
    {
     "name": "stderr",
     "output_type": "stream",
     "text": [
      "ic| x_star: -5.339307499501192, func(x_star): 123.22420575825856\n"
     ]
    },
    {
     "data": {
      "text/plain": [
       "(-5.339307499501192, 123.22420575825856)"
      ]
     },
     "execution_count": 7,
     "metadata": {},
     "output_type": "execute_result"
    },
    {
     "name": "stderr",
     "output_type": "stream",
     "text": [
      "ic| x_star: -5.264521349511169, func(x_star): 117.68716721023156\n"
     ]
    },
    {
     "data": {
      "text/plain": [
       "(-5.264521349511169, 117.68716721023156)"
      ]
     },
     "execution_count": 7,
     "metadata": {},
     "output_type": "execute_result"
    },
    {
     "name": "stderr",
     "output_type": "stream",
     "text": [
      "ic| x_star: -5.191230922520945, func(x_star): 112.36939538870641\n"
     ]
    },
    {
     "data": {
      "text/plain": [
       "(-5.191230922520945, 112.36939538870641)"
      ]
     },
     "execution_count": 7,
     "metadata": {},
     "output_type": "execute_result"
    },
    {
     "name": "stderr",
     "output_type": "stream",
     "text": [
      "ic| x_star: -5.119406304070526, func(x_star): 107.26220733131359\n"
     ]
    },
    {
     "data": {
      "text/plain": [
       "(-5.119406304070526, 107.26220733131359)"
      ]
     },
     "execution_count": 7,
     "metadata": {},
     "output_type": "execute_result"
    },
    {
     "name": "stderr",
     "output_type": "stream",
     "text": [
      "ic| x_star: -5.049018177989115, func(x_star): 102.35726392099357\n"
     ]
    },
    {
     "data": {
      "text/plain": [
       "(-5.049018177989115, 102.35726392099357)"
      ]
     },
     "execution_count": 7,
     "metadata": {},
     "output_type": "execute_result"
    },
    {
     "name": "stderr",
     "output_type": "stream",
     "text": [
      "ic| x_star: -4.980037814429333, func(x_star): 97.64655626972223\n"
     ]
    },
    {
     "data": {
      "text/plain": [
       "(-4.980037814429333, 97.64655626972223)"
      ]
     },
     "execution_count": 7,
     "metadata": {},
     "output_type": "execute_result"
    },
    {
     "name": "stderr",
     "output_type": "stream",
     "text": [
      "ic| x_star: -4.912437058140746, func(x_star): 93.1223926414412\n"
     ]
    },
    {
     "data": {
      "text/plain": [
       "(-4.912437058140746, 93.1223926414412)"
      ]
     },
     "execution_count": 7,
     "metadata": {},
     "output_type": "execute_result"
    },
    {
     "name": "stderr",
     "output_type": "stream",
     "text": [
      "ic| x_star: -4.846188316977932, func(x_star): 88.77738589284016\n"
     ]
    },
    {
     "data": {
      "text/plain": [
       "(-4.846188316977932, 88.77738589284016)"
      ]
     },
     "execution_count": 7,
     "metadata": {},
     "output_type": "execute_result"
    },
    {
     "name": "stderr",
     "output_type": "stream",
     "text": [
      "ic| x_star: -4.781264550638373, func(x_star): 84.60444141148369\n"
     ]
    },
    {
     "data": {
      "text/plain": [
       "(-4.781264550638373, 84.60444141148369)"
      ]
     },
     "execution_count": 7,
     "metadata": {},
     "output_type": "execute_result"
    },
    {
     "name": "stderr",
     "output_type": "stream",
     "text": [
      "ic| x_star: -4.717639259625606, func(x_star): 80.59674553158894\n"
     ]
    },
    {
     "data": {
      "text/plain": [
       "(-4.717639259625606, 80.59674553158894)"
      ]
     },
     "execution_count": 7,
     "metadata": {},
     "output_type": "execute_result"
    },
    {
     "name": "stderr",
     "output_type": "stream",
     "text": [
      "ic| x_star: -4.655286474433093, func(x_star): 76.74775440853799\n"
     ]
    },
    {
     "data": {
      "text/plain": [
       "(-4.655286474433093, 76.74775440853799)"
      ]
     },
     "execution_count": 7,
     "metadata": {},
     "output_type": "execute_result"
    },
    {
     "name": "stderr",
     "output_type": "stream",
     "text": [
      "ic| x_star: -4.594180744944431, func(x_star): 73.05118333395987\n"
     ]
    },
    {
     "data": {
      "text/plain": [
       "(-4.594180744944431, 73.05118333395987)"
      ]
     },
     "execution_count": 7,
     "metadata": {},
     "output_type": "execute_result"
    },
    {
     "name": "stderr",
     "output_type": "stream",
     "text": [
      "ic| x_star: -4.534297130045543, func(x_star): 69.50099647393509\n"
     ]
    },
    {
     "data": {
      "text/plain": [
       "(-4.534297130045543, 69.50099647393509)"
      ]
     },
     "execution_count": 7,
     "metadata": {},
     "output_type": "execute_result"
    },
    {
     "name": "stderr",
     "output_type": "stream",
     "text": [
      "ic| x_star: -4.475611187444632, func(x_star): 66.09139701356727\n"
     ]
    },
    {
     "data": {
      "text/plain": [
       "(-4.475611187444632, 66.09139701356727)"
      ]
     },
     "execution_count": 7,
     "metadata": {},
     "output_type": "execute_result"
    },
    {
     "name": "stderr",
     "output_type": "stream",
     "text": [
      "ic| x_star: -4.41809896369574, func(x_star): 62.81681769183001\n"
     ]
    },
    {
     "data": {
      "text/plain": [
       "(-4.41809896369574, 62.81681769183001)"
      ]
     },
     "execution_count": 7,
     "metadata": {},
     "output_type": "execute_result"
    },
    {
     "name": "stderr",
     "output_type": "stream",
     "text": [
      "ic| x_star: -4.361736984421825, func(x_star): 59.67191171123355\n"
     ]
    },
    {
     "data": {
      "text/plain": [
       "(-4.361736984421825, 59.67191171123355)"
      ]
     },
     "execution_count": 7,
     "metadata": {},
     "output_type": "execute_result"
    },
    {
     "name": "stderr",
     "output_type": "stream",
     "text": [
      "ic| x_star: -4.306502244733388, func(x_star): 56.65154400746869\n"
     ]
    },
    {
     "data": {
      "text/plain": [
       "(-4.306502244733388, 56.65154400746869)"
      ]
     },
     "execution_count": 7,
     "metadata": {},
     "output_type": "execute_result"
    },
    {
     "name": "stderr",
     "output_type": "stream",
     "text": [
      "ic| x_star: -4.252372199838721, func(x_star): 53.75078286477296\n"
     ]
    },
    {
     "data": {
      "text/plain": [
       "(-4.252372199838721, 53.75078286477296)"
      ]
     },
     "execution_count": 7,
     "metadata": {},
     "output_type": "execute_result"
    },
    {
     "name": "stderr",
     "output_type": "stream",
     "text": [
      "ic| x_star: -4.199324755841946, func(x_star): 50.96489186332792\n"
     ]
    },
    {
     "data": {
      "text/plain": [
       "(-4.199324755841946, 50.96489186332792)"
      ]
     },
     "execution_count": 7,
     "metadata": {},
     "output_type": "execute_result"
    },
    {
     "name": "stderr",
     "output_type": "stream",
     "text": [
      "ic| x_star: -4.147338260725108, func(x_star): 48.289322145540154\n"
     ]
    },
    {
     "data": {
      "text/plain": [
       "(-4.147338260725108, 48.289322145540154)"
      ]
     },
     "execution_count": 7,
     "metadata": {},
     "output_type": "execute_result"
    },
    {
     "name": "stderr",
     "output_type": "stream",
     "text": [
      "ic| x_star: -4.0963914955106056, func(x_star): 45.71970498857678\n"
     ]
    },
    {
     "data": {
      "text/plain": [
       "(-4.0963914955106056, 45.71970498857678)"
      ]
     },
     "execution_count": 7,
     "metadata": {},
     "output_type": "execute_result"
    },
    {
     "name": "stderr",
     "output_type": "stream",
     "text": [
      "ic| x_star: -4.046463665600394, func(x_star): 43.25184467102912\n"
     ]
    },
    {
     "data": {
      "text/plain": [
       "(-4.046463665600394, 43.25184467102912)"
      ]
     },
     "execution_count": 7,
     "metadata": {},
     "output_type": "execute_result"
    },
    {
     "name": "stderr",
     "output_type": "stream",
     "text": [
      "ic| x_star: -3.9975343922883857, func(x_star): 40.8817116220564\n"
     ]
    },
    {
     "data": {
      "text/plain": [
       "(-3.9975343922883857, 40.8817116220564)"
      ]
     },
     "execution_count": 7,
     "metadata": {},
     "output_type": "execute_result"
    },
    {
     "name": "stderr",
     "output_type": "stream",
     "text": [
      "ic| x_star: -3.949583704442618, func(x_star): 38.60543584182297\n"
     ]
    },
    {
     "data": {
      "text/plain": [
       "(-3.949583704442618, 38.60543584182297)"
      ]
     },
     "execution_count": 7,
     "metadata": {},
     "output_type": "execute_result"
    },
    {
     "name": "stderr",
     "output_type": "stream",
     "text": [
      "ic| x_star: -3.9025920303537656, func(x_star): 36.41930058248677\n"
     ]
    },
    {
     "data": {
      "text/plain": [
       "(-3.9025920303537656, 36.41930058248677)"
      ]
     },
     "execution_count": 7,
     "metadata": {},
     "output_type": "execute_result"
    },
    {
     "name": "stderr",
     "output_type": "stream",
     "text": [
      "ic| x_star: -3.85654018974669, func(x_star): 34.31973627942028\n"
     ]
    },
    {
     "data": {
      "text/plain": [
       "(-3.85654018974669, 34.31973627942028)"
      ]
     },
     "execution_count": 7,
     "metadata": {},
     "output_type": "execute_result"
    },
    {
     "name": "stderr",
     "output_type": "stream",
     "text": [
      "ic| x_star: -3.8114093859517566, func(x_star): 32.303314722755246\n"
     ]
    },
    {
     "data": {
      "text/plain": [
       "(-3.8114093859517566, 32.303314722755246)"
      ]
     },
     "execution_count": 7,
     "metadata": {},
     "output_type": "execute_result"
    },
    {
     "name": "stderr",
     "output_type": "stream",
     "text": [
      "ic| x_star: -3.7671811982327217, func(x_star): 30.366743459734153\n"
     ]
    },
    {
     "data": {
      "text/plain": [
       "(-3.7671811982327217, 30.366743459734153)"
      ]
     },
     "execution_count": 7,
     "metadata": {},
     "output_type": "execute_result"
    },
    {
     "name": "stderr",
     "output_type": "stream",
     "text": [
      "ic| x_star: -3.7238375742680674, func(x_star): 28.506860418728678\n"
     ]
    },
    {
     "data": {
      "text/plain": [
       "(-3.7238375742680674, 28.506860418728678)"
      ]
     },
     "execution_count": 7,
     "metadata": {},
     "output_type": "execute_result"
    },
    {
     "name": "stderr",
     "output_type": "stream",
     "text": [
      "ic| x_star: -3.681360822782706, func(x_star): 26.720628746147028\n"
     ]
    },
    {
     "data": {
      "text/plain": [
       "(-3.681360822782706, 26.720628746147028)"
      ]
     },
     "execution_count": 7,
     "metadata": {},
     "output_type": "execute_result"
    },
    {
     "name": "stderr",
     "output_type": "stream",
     "text": [
      "ic| x_star: -3.6397336063270522, func(x_star): 25.005131847799618\n"
     ]
    },
    {
     "data": {
      "text/plain": [
       "(-3.6397336063270522, 25.005131847799618)"
      ]
     },
     "execution_count": 7,
     "metadata": {},
     "output_type": "execute_result"
    },
    {
     "name": "stderr",
     "output_type": "stream",
     "text": [
      "ic| x_star: -3.598938934200511, func(x_star): 23.357568626626744\n"
     ]
    },
    {
     "data": {
      "text/plain": [
       "(-3.598938934200511, 23.357568626626744)"
      ]
     },
     "execution_count": 7,
     "metadata": {},
     "output_type": "execute_result"
    },
    {
     "name": "stderr",
     "output_type": "stream",
     "text": [
      "ic| x_star: -3.558960155516501, func(x_star): 21.775248909012333\n"
     ]
    },
    {
     "data": {
      "text/plain": [
       "(-3.558960155516501, 21.775248909012333)"
      ]
     },
     "execution_count": 7,
     "metadata": {},
     "output_type": "execute_result"
    },
    {
     "name": "stderr",
     "output_type": "stream",
     "text": [
      "ic| x_star: -3.5197809524061707, func(x_star): 20.25558905221544\n"
     ]
    },
    {
     "data": {
      "text/plain": [
       "(-3.5197809524061707, 20.25558905221544)"
      ]
     },
     "execution_count": 7,
     "metadata": {},
     "output_type": "execute_result"
    },
    {
     "name": "stderr",
     "output_type": "stream",
     "text": [
      "ic| x_star: -3.4813853333580473, func(x_star): 18.796107725747717\n"
     ]
    },
    {
     "data": {
      "text/plain": [
       "(-3.4813853333580473, 18.796107725747717)"
      ]
     },
     "execution_count": 7,
     "metadata": {},
     "output_type": "execute_result"
    },
    {
     "name": "stderr",
     "output_type": "stream",
     "text": [
      "ic| x_star: -3.4437576266908865, func(x_star): 17.39442185980809\n"
     ]
    },
    {
     "data": {
      "text/plain": [
       "(-3.4437576266908865, 17.39442185980809)"
      ]
     },
     "execution_count": 7,
     "metadata": {},
     "output_type": "execute_result"
    },
    {
     "name": "stderr",
     "output_type": "stream",
     "text": [
      "ic| x_star: -3.4068824741570687, func(x_star): 16.048242754159688\n"
     ]
    },
    {
     "data": {
      "text/plain": [
       "(-3.4068824741570687, 16.048242754159688)"
      ]
     },
     "execution_count": 7,
     "metadata": {},
     "output_type": "execute_result"
    },
    {
     "name": "stderr",
     "output_type": "stream",
     "text": [
      "ic| x_star: -3.370744824673927, func(x_star): 14.755372341094969\n"
     ]
    },
    {
     "data": {
      "text/plain": [
       "(-3.370744824673927, 14.755372341094969)"
      ]
     },
     "execution_count": 7,
     "metadata": {},
     "output_type": "execute_result"
    },
    {
     "name": "stderr",
     "output_type": "stream",
     "text": [
      "ic| x_star: -3.3353299281804487, func(x_star): 13.51369959638761\n"
     ]
    },
    {
     "data": {
      "text/plain": [
       "(-3.3353299281804487, 13.51369959638761)"
      ]
     },
     "execution_count": 7,
     "metadata": {},
     "output_type": "execute_result"
    },
    {
     "name": "stderr",
     "output_type": "stream",
     "text": [
      "ic| x_star: -3.30062332961684, func(x_star): 12.321197092370667\n"
     ]
    },
    {
     "data": {
      "text/plain": [
       "(-3.30062332961684, 12.321197092370667)"
      ]
     },
     "execution_count": 7,
     "metadata": {},
     "output_type": "execute_result"
    },
    {
     "name": "stderr",
     "output_type": "stream",
     "text": [
      "ic| x_star: -3.266610863024503, func(x_star): 11.175917687512793\n"
     ]
    },
    {
     "data": {
      "text/plain": [
       "(-3.266610863024503, 11.175917687512793)"
      ]
     },
     "execution_count": 7,
     "metadata": {},
     "output_type": "execute_result"
    },
    {
     "name": "stderr",
     "output_type": "stream",
     "text": [
      "ic| x_star: -3.233278645764013, func(x_star): 10.075991347087282\n"
     ]
    },
    {
     "data": {
      "text/plain": [
       "(-3.233278645764013, 10.075991347087282)"
      ]
     },
     "execution_count": 7,
     "metadata": {},
     "output_type": "execute_result"
    },
    {
     "name": "stderr",
     "output_type": "stream",
     "text": [
      "ic| x_star: -3.2006130728487325, func(x_star): 9.019622089742626\n"
     ]
    },
    {
     "data": {
      "text/plain": [
       "(-3.2006130728487325, 9.019622089742626)"
      ]
     },
     "execution_count": 7,
     "metadata": {},
     "output_type": "execute_result"
    },
    {
     "name": "stderr",
     "output_type": "stream",
     "text": [
      "ic| x_star: -3.168600811391758, func(x_star): 8.005085054988811\n"
     ]
    },
    {
     "data": {
      "text/plain": [
       "(-3.168600811391758, 8.005085054988811)"
      ]
     },
     "execution_count": 7,
     "metadata": {},
     "output_type": "execute_result"
    },
    {
     "name": "stderr",
     "output_type": "stream",
     "text": [
      "ic| x_star: -3.1372287951639226, func(x_star): 7.030723686811257\n"
     ]
    },
    {
     "data": {
      "text/plain": [
       "(-3.1372287951639226, 7.030723686811257)"
      ]
     },
     "execution_count": 7,
     "metadata": {},
     "output_type": "execute_result"
    },
    {
     "name": "stderr",
     "output_type": "stream",
     "text": [
      "ic| x_star: -3.1064842192606443, func(x_star): 6.094947028813536\n"
     ]
    },
    {
     "data": {
      "text/plain": [
       "(-3.1064842192606443, 6.094947028813536)"
      ]
     },
     "execution_count": 7,
     "metadata": {},
     "output_type": "execute_result"
    },
    {
     "name": "stderr",
     "output_type": "stream",
     "text": [
      "ic| x_star: -3.0763545348754313, func(x_star): 5.1962271264725075\n"
     ]
    },
    {
     "data": {
      "text/plain": [
       "(-3.0763545348754313, 5.1962271264725075)"
      ]
     },
     "execution_count": 7,
     "metadata": {},
     "output_type": "execute_result"
    },
    {
     "name": "stderr",
     "output_type": "stream",
     "text": [
      "ic| x_star: -3.046827444177923, func(x_star): 4.333096532264207\n"
     ]
    },
    {
     "data": {
      "text/plain": [
       "(-3.046827444177923, 4.333096532264207)"
      ]
     },
     "execution_count": 7,
     "metadata": {},
     "output_type": "execute_result"
    },
    {
     "name": "stderr",
     "output_type": "stream",
     "text": [
      "ic| x_star: -3.0178908952943644, func(x_star): 3.5041459095865264\n"
     ]
    },
    {
     "data": {
      "text/plain": [
       "(-3.0178908952943644, 3.5041459095865264)"
      ]
     },
     "execution_count": 7,
     "metadata": {},
     "output_type": "execute_result"
    },
    {
     "name": "stderr",
     "output_type": "stream",
     "text": [
      "ic| x_star: -2.989533077388477, func(x_star): 2.708021731566916\n"
     ]
    },
    {
     "data": {
      "text/plain": [
       "(-2.989533077388477, 2.708021731566916)"
      ]
     },
     "execution_count": 7,
     "metadata": {},
     "output_type": "execute_result"
    },
    {
     "name": "stderr",
     "output_type": "stream",
     "text": [
      "ic| x_star: -2.9617424158407077, func(x_star): 1.943424070996869\n"
     ]
    },
    {
     "data": {
      "text/plain": [
       "(-2.9617424158407077, 1.943424070996869)"
      ]
     },
     "execution_count": 7,
     "metadata": {},
     "output_type": "execute_result"
    },
    {
     "name": "stderr",
     "output_type": "stream",
     "text": [
      "ic| x_star: -2.9345075675238936, func(x_star): 1.209104477785388\n"
     ]
    },
    {
     "data": {
      "text/plain": [
       "(-2.9345075675238936, 1.209104477785388)"
      ]
     },
     "execution_count": 7,
     "metadata": {},
     "output_type": "execute_result"
    },
    {
     "name": "stderr",
     "output_type": "stream",
     "text": [
      "ic| x_star: -2.907817416173416, func(x_star): 0.5038639404650951\n"
     ]
    },
    {
     "data": {
      "text/plain": [
       "(-2.907817416173416, 0.5038639404650951)"
      ]
     },
     "execution_count": 7,
     "metadata": {},
     "output_type": "execute_result"
    },
    {
     "name": "stderr",
     "output_type": "stream",
     "text": [
      "ic| x_star: -2.8816610678499477, func(x_star): -0.17344907157732337\n"
     ]
    },
    {
     "data": {
      "text/plain": [
       "(-2.8816610678499477, -0.17344907157732337)"
      ]
     },
     "execution_count": 7,
     "metadata": {},
     "output_type": "execute_result"
    },
    {
     "name": "stderr",
     "output_type": "stream",
     "text": [
      "ic| x_star: -2.8560278464929487, func(x_star): -0.8239404883428563\n"
     ]
    },
    {
     "data": {
      "text/plain": [
       "(-2.8560278464929487, -0.8239404883428563)"
      ]
     },
     "execution_count": 7,
     "metadata": {},
     "output_type": "execute_result"
    },
    {
     "name": "stderr",
     "output_type": "stream",
     "text": [
      "ic| x_star: -2.83090728956309, func(x_star): -1.4486724450044761\n"
     ]
    },
    {
     "data": {
      "text/plain": [
       "(-2.83090728956309, -1.4486724450044761)"
      ]
     },
     "execution_count": 7,
     "metadata": {},
     "output_type": "execute_result"
    },
    {
     "name": "stderr",
     "output_type": "stream",
     "text": [
      "ic| x_star: -2.806289143771828, func(x_star): -2.048665016182298\n"
     ]
    },
    {
     "data": {
      "text/plain": [
       "(-2.806289143771828, -2.048665016182298)"
      ]
     },
     "execution_count": 7,
     "metadata": {},
     "output_type": "execute_result"
    },
    {
     "name": "stderr",
     "output_type": "stream",
     "text": [
      "ic| x_star: -2.782163360896391, func(x_star): -2.624897881541486\n"
     ]
    },
    {
     "data": {
      "text/plain": [
       "(-2.782163360896391, -2.624897881541486)"
      ]
     },
     "execution_count": 7,
     "metadata": {},
     "output_type": "execute_result"
    },
    {
     "name": "stderr",
     "output_type": "stream",
     "text": [
      "ic| x_star: -2.7585200936784635, func(x_star): -3.178311925432439\n"
     ]
    },
    {
     "data": {
      "text/plain": [
       "(-2.7585200936784635, -3.178311925432439)"
      ]
     },
     "execution_count": 7,
     "metadata": {},
     "output_type": "execute_result"
    },
    {
     "name": "stderr",
     "output_type": "stream",
     "text": [
      "ic| x_star: -2.735349691804894, func(x_star): -3.7098107731853247\n"
     ]
    },
    {
     "data": {
      "text/plain": [
       "(-2.735349691804894, -3.7098107731853247)"
      ]
     },
     "execution_count": 7,
     "metadata": {},
     "output_type": "execute_result"
    },
    {
     "name": "stderr",
     "output_type": "stream",
     "text": [
      "ic| x_star: -2.7126426979687963, func(x_star): -4.220262266567175\n"
     ]
    },
    {
     "data": {
      "text/plain": [
       "(-2.7126426979687963, -4.220262266567175)"
      ]
     },
     "execution_count": 7,
     "metadata": {},
     "output_type": "execute_result"
    },
    {
     "name": "stderr",
     "output_type": "stream",
     "text": [
      "ic| x_star: -2.6903898440094203, func(x_star): -4.710499880811113\n"
     ]
    },
    {
     "data": {
      "text/plain": [
       "(-2.6903898440094203, -4.710499880811113)"
      ]
     },
     "execution_count": 7,
     "metadata": {},
     "output_type": "execute_result"
    },
    {
     "name": "stderr",
     "output_type": "stream",
     "text": [
      "ic| x_star: -2.668582047129232, func(x_star): -5.181324085531003\n"
     ]
    },
    {
     "data": {
      "text/plain": [
       "(-2.668582047129232, -5.181324085531003)"
      ]
     },
     "execution_count": 7,
     "metadata": {},
     "output_type": "execute_result"
    },
    {
     "name": "stderr",
     "output_type": "stream",
     "text": [
      "ic| x_star: -2.6472104061866473, func(x_star): -5.633503651743965\n"
     ]
    },
    {
     "data": {
      "text/plain": [
       "(-2.6472104061866473, -5.633503651743965)"
      ]
     },
     "execution_count": 7,
     "metadata": {},
     "output_type": "execute_result"
    },
    {
     "name": "stderr",
     "output_type": "stream",
     "text": [
      "ic| x_star: -2.6262661980629143, func(x_star): -6.067776907134913\n"
     ]
    },
    {
     "data": {
      "text/plain": [
       "(-2.6262661980629143, -6.067776907134913)"
      ]
     },
     "execution_count": 7,
     "metadata": {},
     "output_type": "execute_result"
    },
    {
     "name": "stderr",
     "output_type": "stream",
     "text": [
      "ic| x_star: -2.605740874101656, func(x_star): -6.484852941612374\n"
     ]
    },
    {
     "data": {
      "text/plain": [
       "(-2.605740874101656, -6.484852941612374)"
      ]
     },
     "execution_count": 7,
     "metadata": {},
     "output_type": "execute_result"
    },
    {
     "name": "stderr",
     "output_type": "stream",
     "text": [
      "ic| x_star: -2.5856260566196227, func(x_star): -6.885412765124528\n"
     ]
    },
    {
     "data": {
      "text/plain": [
       "(-2.5856260566196227, -6.885412765124528)"
      ]
     },
     "execution_count": 7,
     "metadata": {},
     "output_type": "execute_result"
    },
    {
     "name": "stderr",
     "output_type": "stream",
     "text": [
      "ic| x_star: -2.5659135354872302, func(x_star): -7.2701104196255955\n"
     ]
    },
    {
     "data": {
      "text/plain": [
       "(-2.5659135354872302, -7.2701104196255955)"
      ]
     },
     "execution_count": 7,
     "metadata": {},
     "output_type": "execute_result"
    },
    {
     "name": "stderr",
     "output_type": "stream",
     "text": [
      "ic| x_star: -2.5465952647774857, func(x_star): -7.6395740470084235\n"
     ]
    },
    {
     "data": {
      "text/plain": [
       "(-2.5465952647774857, -7.6395740470084235)"
      ]
     },
     "execution_count": 7,
     "metadata": {},
     "output_type": "execute_result"
    },
    {
     "name": "stderr",
     "output_type": "stream",
     "text": [
      "ic| x_star: -2.5276633594819358, func(x_star): -7.9944069147468895\n"
     ]
    },
    {
     "data": {
      "text/plain": [
       "(-2.5276633594819358, -7.9944069147468895)"
      ]
     },
     "execution_count": 7,
     "metadata": {},
     "output_type": "execute_result"
    },
    {
     "name": "stderr",
     "output_type": "stream",
     "text": [
      "ic| x_star: -2.509110092292297, func(x_star): -8.33518840092291\n"
     ]
    },
    {
     "data": {
      "text/plain": [
       "(-2.509110092292297, -8.33518840092291)"
      ]
     },
     "execution_count": 7,
     "metadata": {},
     "output_type": "execute_result"
    },
    {
     "name": "stderr",
     "output_type": "stream",
     "text": [
      "ic| x_star: -2.4909278904464514, func(x_star): -8.662474940246362\n"
     ]
    },
    {
     "data": {
      "text/plain": [
       "(-2.4909278904464514, -8.662474940246362)"
      ]
     },
     "execution_count": 7,
     "metadata": {},
     "output_type": "execute_result"
    },
    {
     "name": "stderr",
     "output_type": "stream",
     "text": [
      "ic| x_star: -2.4731093326375224, func(x_star): -8.976800932612605\n"
     ]
    },
    {
     "data": {
      "text/plain": [
       "(-2.4731093326375224, -8.976800932612605)"
      ]
     },
     "execution_count": 7,
     "metadata": {},
     "output_type": "execute_result"
    },
    {
     "name": "stderr",
     "output_type": "stream",
     "text": [
      "ic| x_star: -2.455647145984772, func(x_star): -9.278679615681142\n"
     ]
    },
    {
     "data": {
      "text/plain": [
       "(-2.455647145984772, -9.278679615681142)"
      ]
     },
     "execution_count": 7,
     "metadata": {},
     "output_type": "execute_result"
    },
    {
     "name": "stderr",
     "output_type": "stream",
     "text": [
      "ic| x_star: -2.438534203065077, func(x_star): -9.568603902900165\n"
     ]
    },
    {
     "data": {
      "text/plain": [
       "(-2.438534203065077, -9.568603902900165)"
      ]
     },
     "execution_count": 7,
     "metadata": {},
     "output_type": "execute_result"
    },
    {
     "name": "stderr",
     "output_type": "stream",
     "text": [
      "ic| x_star: -2.4217635190037754, func(x_star): -9.847047188345314\n"
     ]
    },
    {
     "data": {
      "text/plain": [
       "(-2.4217635190037754, -9.847047188345314)"
      ]
     },
     "execution_count": 7,
     "metadata": {},
     "output_type": "execute_result"
    },
    {
     "name": "stderr",
     "output_type": "stream",
     "text": [
      "ic| x_star: -2.4053282486236998, func(x_star): -10.114464119686843\n"
     ]
    },
    {
     "data": {
      "text/plain": [
       "(-2.4053282486236998, -10.114464119686843)"
      ]
     },
     "execution_count": 7,
     "metadata": {},
     "output_type": "execute_result"
    },
    {
     "name": "stderr",
     "output_type": "stream",
     "text": [
      "ic| x_star: -2.389221683651226, func(x_star): -10.371291340547245\n"
     ]
    },
    {
     "data": {
      "text/plain": [
       "(-2.389221683651226, -10.371291340547245)"
      ]
     },
     "execution_count": 7,
     "metadata": {},
     "output_type": "execute_result"
    }
   ],
   "source": [
    "for i in range(100):\n",
    "    x_star = x_star + -1*gradient(x_star)*alpha\n",
    "    steps.append(x_star)\n",
    "\n",
    "    ic(x_star, func(x_star))"
   ]
  },
  {
   "cell_type": "code",
   "execution_count": 8,
   "id": "curious-participant",
   "metadata": {},
   "outputs": [
    {
     "data": {
      "text/plain": [
       "[<matplotlib.lines.Line2D at 0x7fec7d9f6748>]"
      ]
     },
     "execution_count": 8,
     "metadata": {},
     "output_type": "execute_result"
    },
    {
     "data": {
      "text/plain": [
       "Text(-7.432, 323.52224000000007, '1')"
      ]
     },
     "execution_count": 8,
     "metadata": {},
     "output_type": "execute_result"
    },
    {
     "data": {
      "text/plain": [
       "Text(-7.31536, 310.053399296, '2')"
      ]
     },
     "execution_count": 8,
     "metadata": {},
     "output_type": "execute_result"
    },
    {
     "data": {
      "text/plain": [
       "Text(-7.2010528, 297.1179246838785, '3')"
      ]
     },
     "execution_count": 8,
     "metadata": {},
     "output_type": "execute_result"
    },
    {
     "data": {
      "text/plain": [
       "Text(-7.089031744000001, 284.69469486639696, '4')"
      ]
     },
     "execution_count": 8,
     "metadata": {},
     "output_type": "execute_result"
    },
    {
     "data": {
      "text/plain": [
       "Text(-6.979251109120001, 272.76342494968753, '5')"
      ]
     },
     "execution_count": 8,
     "metadata": {},
     "output_type": "execute_result"
    },
    {
     "data": {
      "text/plain": [
       "Text(-6.8716660869376005, 261.30463332167994, '6')"
      ]
     },
     "execution_count": 8,
     "metadata": {},
     "output_type": "execute_result"
    },
    {
     "data": {
      "text/plain": [
       "Text(-6.766232765198849, 250.29960984214148, '7')"
      ]
     },
     "execution_count": 8,
     "metadata": {},
     "output_type": "execute_result"
    },
    {
     "data": {
      "text/plain": [
       "Text(-6.662908109894872, 239.7303852923926, '8')"
      ]
     },
     "execution_count": 8,
     "metadata": {},
     "output_type": "execute_result"
    },
    {
     "data": {
      "text/plain": [
       "Text(-6.561649947696974, 229.57970203481392, '9')"
      ]
     },
     "execution_count": 8,
     "metadata": {},
     "output_type": "execute_result"
    },
    {
     "data": {
      "text/plain": [
       "Text(-6.4624169487430345, 219.83098583423524, '10')"
      ]
     },
     "execution_count": 8,
     "metadata": {},
     "output_type": "execute_result"
    },
    {
     "data": {
      "text/plain": [
       "Text(-6.3651686097681734, 210.46831879519945, '11')"
      ]
     },
     "execution_count": 8,
     "metadata": {},
     "output_type": "execute_result"
    },
    {
     "data": {
      "text/plain": [
       "Text(-6.26986523757281, 201.4764133709095, '12')"
      ]
     },
     "execution_count": 8,
     "metadata": {},
     "output_type": "execute_result"
    },
    {
     "data": {
      "text/plain": [
       "Text(-6.176467932821353, 192.8405874014215, '13')"
      ]
     },
     "execution_count": 8,
     "metadata": {},
     "output_type": "execute_result"
    },
    {
     "data": {
      "text/plain": [
       "Text(-6.0849385741649265, 184.5467401403252, '14')"
      ]
     },
     "execution_count": 8,
     "metadata": {},
     "output_type": "execute_result"
    },
    {
     "data": {
      "text/plain": [
       "Text(-5.995239802681628, 176.58132923076835, '15')"
      ]
     },
     "execution_count": 8,
     "metadata": {},
     "output_type": "execute_result"
    },
    {
     "data": {
      "text/plain": [
       "Text(-5.907335006627995, 168.9313485932299, '16')"
      ]
     },
     "execution_count": 8,
     "metadata": {},
     "output_type": "execute_result"
    },
    {
     "data": {
      "text/plain": [
       "Text(-5.821188306495435, 161.58430718893794, '17')"
      ]
     },
     "execution_count": 8,
     "metadata": {},
     "output_type": "execute_result"
    },
    {
     "data": {
      "text/plain": [
       "Text(-5.736764540365526, 154.52820862425602, '18')"
      ]
     },
     "execution_count": 8,
     "metadata": {},
     "output_type": "execute_result"
    },
    {
     "data": {
      "text/plain": [
       "Text(-5.654029249558215, 147.75153156273547, '19')"
      ]
     },
     "execution_count": 8,
     "metadata": {},
     "output_type": "execute_result"
    },
    {
     "data": {
      "text/plain": [
       "Text(-5.572948664567051, 141.24321091285114, '20')"
      ]
     },
     "execution_count": 8,
     "metadata": {},
     "output_type": "execute_result"
    },
    {
     "data": {
      "text/plain": [
       "Text(-5.493489691275711, 134.99261976070233, '21')"
      ]
     },
     "execution_count": 8,
     "metadata": {},
     "output_type": "execute_result"
    },
    {
     "data": {
      "text/plain": [
       "Text(-5.415619897450196, 128.9895520181785, '22')"
      ]
     },
     "execution_count": 8,
     "metadata": {},
     "output_type": "execute_result"
    },
    {
     "data": {
      "text/plain": [
       "Text(-5.339307499501192, 123.22420575825856, '23')"
      ]
     },
     "execution_count": 8,
     "metadata": {},
     "output_type": "execute_result"
    },
    {
     "data": {
      "text/plain": [
       "Text(-5.264521349511169, 117.68716721023156, '24')"
      ]
     },
     "execution_count": 8,
     "metadata": {},
     "output_type": "execute_result"
    },
    {
     "data": {
      "text/plain": [
       "Text(-5.191230922520945, 112.36939538870641, '25')"
      ]
     },
     "execution_count": 8,
     "metadata": {},
     "output_type": "execute_result"
    },
    {
     "data": {
      "text/plain": [
       "Text(-5.119406304070526, 107.26220733131359, '26')"
      ]
     },
     "execution_count": 8,
     "metadata": {},
     "output_type": "execute_result"
    },
    {
     "data": {
      "text/plain": [
       "Text(-5.049018177989115, 102.35726392099357, '27')"
      ]
     },
     "execution_count": 8,
     "metadata": {},
     "output_type": "execute_result"
    },
    {
     "data": {
      "text/plain": [
       "Text(-4.980037814429333, 97.64655626972223, '28')"
      ]
     },
     "execution_count": 8,
     "metadata": {},
     "output_type": "execute_result"
    },
    {
     "data": {
      "text/plain": [
       "Text(-4.912437058140746, 93.1223926414412, '29')"
      ]
     },
     "execution_count": 8,
     "metadata": {},
     "output_type": "execute_result"
    },
    {
     "data": {
      "text/plain": [
       "Text(-4.846188316977932, 88.77738589284016, '30')"
      ]
     },
     "execution_count": 8,
     "metadata": {},
     "output_type": "execute_result"
    },
    {
     "data": {
      "text/plain": [
       "Text(-4.781264550638373, 84.60444141148369, '31')"
      ]
     },
     "execution_count": 8,
     "metadata": {},
     "output_type": "execute_result"
    },
    {
     "data": {
      "text/plain": [
       "Text(-4.717639259625606, 80.59674553158894, '32')"
      ]
     },
     "execution_count": 8,
     "metadata": {},
     "output_type": "execute_result"
    },
    {
     "data": {
      "text/plain": [
       "Text(-4.655286474433093, 76.74775440853799, '33')"
      ]
     },
     "execution_count": 8,
     "metadata": {},
     "output_type": "execute_result"
    },
    {
     "data": {
      "text/plain": [
       "Text(-4.594180744944431, 73.05118333395987, '34')"
      ]
     },
     "execution_count": 8,
     "metadata": {},
     "output_type": "execute_result"
    },
    {
     "data": {
      "text/plain": [
       "Text(-4.534297130045543, 69.50099647393509, '35')"
      ]
     },
     "execution_count": 8,
     "metadata": {},
     "output_type": "execute_result"
    },
    {
     "data": {
      "text/plain": [
       "Text(-4.475611187444632, 66.09139701356727, '36')"
      ]
     },
     "execution_count": 8,
     "metadata": {},
     "output_type": "execute_result"
    },
    {
     "data": {
      "text/plain": [
       "Text(-4.41809896369574, 62.81681769183001, '37')"
      ]
     },
     "execution_count": 8,
     "metadata": {},
     "output_type": "execute_result"
    },
    {
     "data": {
      "text/plain": [
       "Text(-4.361736984421825, 59.67191171123355, '38')"
      ]
     },
     "execution_count": 8,
     "metadata": {},
     "output_type": "execute_result"
    },
    {
     "data": {
      "text/plain": [
       "Text(-4.306502244733388, 56.65154400746869, '39')"
      ]
     },
     "execution_count": 8,
     "metadata": {},
     "output_type": "execute_result"
    },
    {
     "data": {
      "text/plain": [
       "Text(-4.252372199838721, 53.75078286477296, '40')"
      ]
     },
     "execution_count": 8,
     "metadata": {},
     "output_type": "execute_result"
    },
    {
     "data": {
      "text/plain": [
       "Text(-4.199324755841946, 50.96489186332792, '41')"
      ]
     },
     "execution_count": 8,
     "metadata": {},
     "output_type": "execute_result"
    },
    {
     "data": {
      "text/plain": [
       "Text(-4.147338260725108, 48.289322145540154, '42')"
      ]
     },
     "execution_count": 8,
     "metadata": {},
     "output_type": "execute_result"
    },
    {
     "data": {
      "text/plain": [
       "Text(-4.0963914955106056, 45.71970498857678, '43')"
      ]
     },
     "execution_count": 8,
     "metadata": {},
     "output_type": "execute_result"
    },
    {
     "data": {
      "text/plain": [
       "Text(-4.046463665600394, 43.25184467102912, '44')"
      ]
     },
     "execution_count": 8,
     "metadata": {},
     "output_type": "execute_result"
    },
    {
     "data": {
      "text/plain": [
       "Text(-3.9975343922883857, 40.8817116220564, '45')"
      ]
     },
     "execution_count": 8,
     "metadata": {},
     "output_type": "execute_result"
    },
    {
     "data": {
      "text/plain": [
       "Text(-3.949583704442618, 38.60543584182297, '46')"
      ]
     },
     "execution_count": 8,
     "metadata": {},
     "output_type": "execute_result"
    },
    {
     "data": {
      "text/plain": [
       "Text(-3.9025920303537656, 36.41930058248677, '47')"
      ]
     },
     "execution_count": 8,
     "metadata": {},
     "output_type": "execute_result"
    },
    {
     "data": {
      "text/plain": [
       "Text(-3.85654018974669, 34.31973627942028, '48')"
      ]
     },
     "execution_count": 8,
     "metadata": {},
     "output_type": "execute_result"
    },
    {
     "data": {
      "text/plain": [
       "Text(-3.8114093859517566, 32.303314722755246, '49')"
      ]
     },
     "execution_count": 8,
     "metadata": {},
     "output_type": "execute_result"
    },
    {
     "data": {
      "text/plain": [
       "Text(-3.7671811982327217, 30.366743459734153, '50')"
      ]
     },
     "execution_count": 8,
     "metadata": {},
     "output_type": "execute_result"
    },
    {
     "data": {
      "text/plain": [
       "Text(-3.7238375742680674, 28.506860418728678, '51')"
      ]
     },
     "execution_count": 8,
     "metadata": {},
     "output_type": "execute_result"
    },
    {
     "data": {
      "text/plain": [
       "Text(-3.681360822782706, 26.720628746147028, '52')"
      ]
     },
     "execution_count": 8,
     "metadata": {},
     "output_type": "execute_result"
    },
    {
     "data": {
      "text/plain": [
       "Text(-3.6397336063270522, 25.005131847799618, '53')"
      ]
     },
     "execution_count": 8,
     "metadata": {},
     "output_type": "execute_result"
    },
    {
     "data": {
      "text/plain": [
       "Text(-3.598938934200511, 23.357568626626744, '54')"
      ]
     },
     "execution_count": 8,
     "metadata": {},
     "output_type": "execute_result"
    },
    {
     "data": {
      "text/plain": [
       "Text(-3.558960155516501, 21.775248909012333, '55')"
      ]
     },
     "execution_count": 8,
     "metadata": {},
     "output_type": "execute_result"
    },
    {
     "data": {
      "text/plain": [
       "Text(-3.5197809524061707, 20.25558905221544, '56')"
      ]
     },
     "execution_count": 8,
     "metadata": {},
     "output_type": "execute_result"
    },
    {
     "data": {
      "text/plain": [
       "Text(-3.4813853333580473, 18.796107725747717, '57')"
      ]
     },
     "execution_count": 8,
     "metadata": {},
     "output_type": "execute_result"
    },
    {
     "data": {
      "text/plain": [
       "Text(-3.4437576266908865, 17.39442185980809, '58')"
      ]
     },
     "execution_count": 8,
     "metadata": {},
     "output_type": "execute_result"
    },
    {
     "data": {
      "text/plain": [
       "Text(-3.4068824741570687, 16.048242754159688, '59')"
      ]
     },
     "execution_count": 8,
     "metadata": {},
     "output_type": "execute_result"
    },
    {
     "data": {
      "text/plain": [
       "Text(-3.370744824673927, 14.755372341094969, '60')"
      ]
     },
     "execution_count": 8,
     "metadata": {},
     "output_type": "execute_result"
    },
    {
     "data": {
      "text/plain": [
       "Text(-3.3353299281804487, 13.51369959638761, '61')"
      ]
     },
     "execution_count": 8,
     "metadata": {},
     "output_type": "execute_result"
    },
    {
     "data": {
      "text/plain": [
       "Text(-3.30062332961684, 12.321197092370667, '62')"
      ]
     },
     "execution_count": 8,
     "metadata": {},
     "output_type": "execute_result"
    },
    {
     "data": {
      "text/plain": [
       "Text(-3.266610863024503, 11.175917687512793, '63')"
      ]
     },
     "execution_count": 8,
     "metadata": {},
     "output_type": "execute_result"
    },
    {
     "data": {
      "text/plain": [
       "Text(-3.233278645764013, 10.075991347087282, '64')"
      ]
     },
     "execution_count": 8,
     "metadata": {},
     "output_type": "execute_result"
    },
    {
     "data": {
      "text/plain": [
       "Text(-3.2006130728487325, 9.019622089742626, '65')"
      ]
     },
     "execution_count": 8,
     "metadata": {},
     "output_type": "execute_result"
    },
    {
     "data": {
      "text/plain": [
       "Text(-3.168600811391758, 8.005085054988811, '66')"
      ]
     },
     "execution_count": 8,
     "metadata": {},
     "output_type": "execute_result"
    },
    {
     "data": {
      "text/plain": [
       "Text(-3.1372287951639226, 7.030723686811257, '67')"
      ]
     },
     "execution_count": 8,
     "metadata": {},
     "output_type": "execute_result"
    },
    {
     "data": {
      "text/plain": [
       "Text(-3.1064842192606443, 6.094947028813536, '68')"
      ]
     },
     "execution_count": 8,
     "metadata": {},
     "output_type": "execute_result"
    },
    {
     "data": {
      "text/plain": [
       "Text(-3.0763545348754313, 5.1962271264725075, '69')"
      ]
     },
     "execution_count": 8,
     "metadata": {},
     "output_type": "execute_result"
    },
    {
     "data": {
      "text/plain": [
       "Text(-3.046827444177923, 4.333096532264207, '70')"
      ]
     },
     "execution_count": 8,
     "metadata": {},
     "output_type": "execute_result"
    },
    {
     "data": {
      "text/plain": [
       "Text(-3.0178908952943644, 3.5041459095865264, '71')"
      ]
     },
     "execution_count": 8,
     "metadata": {},
     "output_type": "execute_result"
    },
    {
     "data": {
      "text/plain": [
       "Text(-2.989533077388477, 2.708021731566916, '72')"
      ]
     },
     "execution_count": 8,
     "metadata": {},
     "output_type": "execute_result"
    },
    {
     "data": {
      "text/plain": [
       "Text(-2.9617424158407077, 1.943424070996869, '73')"
      ]
     },
     "execution_count": 8,
     "metadata": {},
     "output_type": "execute_result"
    },
    {
     "data": {
      "text/plain": [
       "Text(-2.9345075675238936, 1.209104477785388, '74')"
      ]
     },
     "execution_count": 8,
     "metadata": {},
     "output_type": "execute_result"
    },
    {
     "data": {
      "text/plain": [
       "Text(-2.907817416173416, 0.5038639404650951, '75')"
      ]
     },
     "execution_count": 8,
     "metadata": {},
     "output_type": "execute_result"
    },
    {
     "data": {
      "text/plain": [
       "Text(-2.8816610678499477, -0.17344907157732337, '76')"
      ]
     },
     "execution_count": 8,
     "metadata": {},
     "output_type": "execute_result"
    },
    {
     "data": {
      "text/plain": [
       "Text(-2.8560278464929487, -0.8239404883428563, '77')"
      ]
     },
     "execution_count": 8,
     "metadata": {},
     "output_type": "execute_result"
    },
    {
     "data": {
      "text/plain": [
       "Text(-2.83090728956309, -1.4486724450044761, '78')"
      ]
     },
     "execution_count": 8,
     "metadata": {},
     "output_type": "execute_result"
    },
    {
     "data": {
      "text/plain": [
       "Text(-2.806289143771828, -2.048665016182298, '79')"
      ]
     },
     "execution_count": 8,
     "metadata": {},
     "output_type": "execute_result"
    },
    {
     "data": {
      "text/plain": [
       "Text(-2.782163360896391, -2.624897881541486, '80')"
      ]
     },
     "execution_count": 8,
     "metadata": {},
     "output_type": "execute_result"
    },
    {
     "data": {
      "text/plain": [
       "Text(-2.7585200936784635, -3.178311925432439, '81')"
      ]
     },
     "execution_count": 8,
     "metadata": {},
     "output_type": "execute_result"
    },
    {
     "data": {
      "text/plain": [
       "Text(-2.735349691804894, -3.7098107731853247, '82')"
      ]
     },
     "execution_count": 8,
     "metadata": {},
     "output_type": "execute_result"
    },
    {
     "data": {
      "text/plain": [
       "Text(-2.7126426979687963, -4.220262266567175, '83')"
      ]
     },
     "execution_count": 8,
     "metadata": {},
     "output_type": "execute_result"
    },
    {
     "data": {
      "text/plain": [
       "Text(-2.6903898440094203, -4.710499880811113, '84')"
      ]
     },
     "execution_count": 8,
     "metadata": {},
     "output_type": "execute_result"
    },
    {
     "data": {
      "text/plain": [
       "Text(-2.668582047129232, -5.181324085531003, '85')"
      ]
     },
     "execution_count": 8,
     "metadata": {},
     "output_type": "execute_result"
    },
    {
     "data": {
      "text/plain": [
       "Text(-2.6472104061866473, -5.633503651743965, '86')"
      ]
     },
     "execution_count": 8,
     "metadata": {},
     "output_type": "execute_result"
    },
    {
     "data": {
      "text/plain": [
       "Text(-2.6262661980629143, -6.067776907134913, '87')"
      ]
     },
     "execution_count": 8,
     "metadata": {},
     "output_type": "execute_result"
    },
    {
     "data": {
      "text/plain": [
       "Text(-2.605740874101656, -6.484852941612374, '88')"
      ]
     },
     "execution_count": 8,
     "metadata": {},
     "output_type": "execute_result"
    },
    {
     "data": {
      "text/plain": [
       "Text(-2.5856260566196227, -6.885412765124528, '89')"
      ]
     },
     "execution_count": 8,
     "metadata": {},
     "output_type": "execute_result"
    },
    {
     "data": {
      "text/plain": [
       "Text(-2.5659135354872302, -7.2701104196255955, '90')"
      ]
     },
     "execution_count": 8,
     "metadata": {},
     "output_type": "execute_result"
    },
    {
     "data": {
      "text/plain": [
       "Text(-2.5465952647774857, -7.6395740470084235, '91')"
      ]
     },
     "execution_count": 8,
     "metadata": {},
     "output_type": "execute_result"
    },
    {
     "data": {
      "text/plain": [
       "Text(-2.5276633594819358, -7.9944069147468895, '92')"
      ]
     },
     "execution_count": 8,
     "metadata": {},
     "output_type": "execute_result"
    },
    {
     "data": {
      "text/plain": [
       "Text(-2.509110092292297, -8.33518840092291, '93')"
      ]
     },
     "execution_count": 8,
     "metadata": {},
     "output_type": "execute_result"
    },
    {
     "data": {
      "text/plain": [
       "Text(-2.4909278904464514, -8.662474940246362, '94')"
      ]
     },
     "execution_count": 8,
     "metadata": {},
     "output_type": "execute_result"
    },
    {
     "data": {
      "text/plain": [
       "Text(-2.4731093326375224, -8.976800932612605, '95')"
      ]
     },
     "execution_count": 8,
     "metadata": {},
     "output_type": "execute_result"
    },
    {
     "data": {
      "text/plain": [
       "Text(-2.455647145984772, -9.278679615681142, '96')"
      ]
     },
     "execution_count": 8,
     "metadata": {},
     "output_type": "execute_result"
    },
    {
     "data": {
      "text/plain": [
       "Text(-2.438534203065077, -9.568603902900165, '97')"
      ]
     },
     "execution_count": 8,
     "metadata": {},
     "output_type": "execute_result"
    },
    {
     "data": {
      "text/plain": [
       "Text(-2.4217635190037754, -9.847047188345314, '98')"
      ]
     },
     "execution_count": 8,
     "metadata": {},
     "output_type": "execute_result"
    },
    {
     "data": {
      "text/plain": [
       "Text(-2.4053282486236998, -10.114464119686843, '99')"
      ]
     },
     "execution_count": 8,
     "metadata": {},
     "output_type": "execute_result"
    },
    {
     "data": {
      "text/plain": [
       "Text(-2.389221683651226, -10.371291340547245, '100')"
      ]
     },
     "execution_count": 8,
     "metadata": {},
     "output_type": "execute_result"
    },
    {
     "data": {
      "image/png": "[encoded data removed]",
      "text/plain": [
       "<Figure size 432x288 with 1 Axes>"
      ]
     },
     "metadata": {
      "needs_background": "light"
     },
     "output_type": "display_data"
    }
   ],
   "source": [
    "fig, ax = plt.subplots()\n",
    "ax.plot(x, func(x))\n",
    "for i, s in enumerate(steps):\n",
    "    ax.annotate(str(i+1), (s, func(s)))\n",
    "\n",
    "plt.show()"
   ]
  }
 ],
 "metadata": {
  "kernelspec": {
   "display_name": "Python 3",
   "language": "python",
   "name": "python3"
  },
  "language_info": {
   "codemirror_mode": {
    "name": "ipython",
    "version": 3
   },
   "file_extension": ".py",
   "mimetype": "text/x-python",
   "name": "python",
   "nbconvert_exporter": "python",
   "pygments_lexer": "ipython3",
   "version": "3.7.0"
  }
 },
 "nbformat": 4,
 "nbformat_minor": 5
}
