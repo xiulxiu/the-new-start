{
 "cells": [
  {
   "cell_type": "code",
   "execution_count": 1,
   "id": "muslim-honolulu",
   "metadata": {},
   "outputs": [],
   "source": [
    "#Jupyter中打印所有结果\n",
    "from IPython.core.interactiveshell import InteractiveShell\n",
    "InteractiveShell.ast_node_interactivity = \"all\""
   ]
  },
  {
   "cell_type": "code",
   "execution_count": 2,
   "id": "fabulous-capacity",
   "metadata": {},
   "outputs": [],
   "source": [
    "import random \n",
    "from icecream import ic"
   ]
  },
  {
   "cell_type": "code",
   "execution_count": 3,
   "id": "sixth-prisoner",
   "metadata": {},
   "outputs": [],
   "source": [
    "#rules = \"\"\"\n",
    "#复合句子 = 句子 , 连词 句子\n",
    "#连词 = 而且 | 但是 | 不过\n",
    "#句子 = 主语 谓语 宾语\n",
    "#主语 = 你| 我 | 他 \n",
    "#谓语 = 吃| 玩 \n",
    "#宾语 = 桃子| 皮球\n",
    "#    \n",
    "#\"\"\""
   ]
  },
  {
   "cell_type": "code",
   "execution_count": 4,
   "id": "terminal-history",
   "metadata": {},
   "outputs": [],
   "source": [
    "rules = \"\"\"\n",
    "复合句子 = 句子 , 连词 句子\n",
    "连词 = 而且 | 但是 | 不过\n",
    "句子 = 主语 谓语 宾语\n",
    "主语 = 你| 我 | 他 \n",
    "谓语 = 吃| 玩 \n",
    "宾语 = 桃子| 皮球\n",
    "   \n",
    "\"\"\""
   ]
  },
  {
   "cell_type": "code",
   "execution_count": 5,
   "id": "ranking-panel",
   "metadata": {},
   "outputs": [],
   "source": [
    "def get_grammer_by_description(description):\n",
    "    rules_pattern = [r.split('=') for r in description.split('\\n') if r.strip()]\n",
    "    target_with_expend = [(t, ex.split('|')) for t, ex in rules_pattern]\n",
    "    grammer = {t.strip(): [e.strip() for e in ex] for t, ex in target_with_expend}\n",
    "    return grammer"
   ]
  },
  {
   "cell_type": "code",
   "execution_count": 6,
   "id": "black-continent",
   "metadata": {},
   "outputs": [],
   "source": [
    "#generated = [t for t in random.choice(grammer['句子']).split()]\n",
    "#test_v = [t for t in random.choice(grammer['谓语']).split()]"
   ]
  },
  {
   "cell_type": "code",
   "execution_count": 7,
   "id": "likely-victorian",
   "metadata": {},
   "outputs": [],
   "source": [
    "def generate_by_grammer(grammer, target='句子'):\n",
    "    if target not in grammer: return target\n",
    "\n",
    "    return ''.join([generate_by_grammer(grammer, t) for t in random.choice(grammer[target]).split()])"
   ]
  },
  {
   "cell_type": "code",
   "execution_count": 8,
   "id": "finite-option",
   "metadata": {},
   "outputs": [
    {
     "name": "stderr",
     "output_type": "stream",
     "text": [
      "ic| generate_by_grammer(grammer, target='复合句子'): '我吃皮球,不过你玩皮球'\n"
     ]
    },
    {
     "data": {
      "text/plain": [
       "'我吃皮球,不过你玩皮球'"
      ]
     },
     "execution_count": 8,
     "metadata": {},
     "output_type": "execute_result"
    }
   ],
   "source": [
    "grammer = get_grammer_by_description(rules)\n",
    "\n",
    "# ic(generated)\n",
    "# ic(test_v)\n",
    "# ic(generate_by_grammer(grammer))\n",
    "\n",
    "ic(generate_by_grammer(grammer, target='复合句子'))"
   ]
  }
 ],
 "metadata": {
  "kernelspec": {
   "display_name": "Python 3",
   "language": "python",
   "name": "python3"
  },
  "language_info": {
   "codemirror_mode": {
    "name": "ipython",
    "version": 3
   },
   "file_extension": ".py",
   "mimetype": "text/x-python",
   "name": "python",
   "nbconvert_exporter": "python",
   "pygments_lexer": "ipython3",
   "version": "3.7.0"
  }
 },
 "nbformat": 4,
 "nbformat_minor": 5
}
